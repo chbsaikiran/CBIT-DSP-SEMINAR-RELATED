{
 "cells": [
  {
   "cell_type": "code",
   "execution_count": 4,
   "id": "b35f688e",
   "metadata": {},
   "outputs": [
    {
     "name": "stdout",
     "output_type": "stream",
     "text": [
      "-1.0\n",
      "-0.875\n",
      "-0.75\n",
      "-0.625\n",
      "-0.5\n",
      "-0.375\n",
      "-0.25\n",
      "-0.125\n",
      "0.0\n",
      "0.125\n",
      "0.25\n",
      "0.375\n",
      "0.5\n",
      "0.625\n",
      "0.75\n",
      "0.875\n"
     ]
    }
   ],
   "source": [
    "def show_binary(number, bits):\n",
    "    \"\"\"\n",
    "    Show the binary representation of a number in a fixed bit-width.\n",
    "\n",
    "    Parameters:\n",
    "    -----------\n",
    "    number : int\n",
    "        The number to convert (can be positive or negative).\n",
    "    bits : int\n",
    "        The bit-width (e.g., 8, 16, 32).\n",
    "    \"\"\"\n",
    "    if number < 0:\n",
    "        # For negative numbers, take two's complement representation\n",
    "        number = (1 << bits) + number\n",
    "    return format(number, f'0{bits}b')  # Zero-padded binary string\n",
    "\n",
    "#4 bits Q1.0.3 format\n",
    "float_format = []\n",
    "for i in range(16):\n",
    "    print((-1+(i)/8))\n",
    "    float_format.append((-1+(i)/8))\n",
    "\n"
   ]
  },
  {
   "cell_type": "code",
   "execution_count": 5,
   "id": "78e2a3ff",
   "metadata": {},
   "outputs": [
    {
     "name": "stdout",
     "output_type": "stream",
     "text": [
      "1000\n",
      "1001\n",
      "1010\n",
      "1011\n",
      "1100\n",
      "1101\n",
      "1110\n",
      "1111\n",
      "0000\n",
      "0001\n",
      "0010\n",
      "0011\n",
      "0100\n",
      "0101\n",
      "0110\n",
      "0111\n"
     ]
    }
   ],
   "source": [
    "binary_format = []\n",
    "for i in range(16):\n",
    "    print(show_binary(round((-1+(i)/8)*8),4))\n",
    "    binary_format.append(show_binary(round((-1+(i)/8)*8),4))"
   ]
  },
  {
   "cell_type": "code",
   "execution_count": 6,
   "id": "60c66022",
   "metadata": {},
   "outputs": [
    {
     "data": {
      "text/plain": [
       "(-1.0, 0.875)"
      ]
     },
     "execution_count": 6,
     "metadata": {},
     "output_type": "execute_result"
    }
   ],
   "source": [
    "my_dict = dict(zip(binary_format, float_format))\n",
    "my_dict_rev = dict(zip(float_format,binary_format))\n",
    "#print(my_dict)\n",
    "my_dict[\"1000\"],my_dict[\"0111\"]"
   ]
  },
  {
   "cell_type": "code",
   "execution_count": 7,
   "id": "6d2bda76",
   "metadata": {},
   "outputs": [
    {
     "name": "stdout",
     "output_type": "stream",
     "text": [
      "-1.0\n",
      "1000\n"
     ]
    }
   ],
   "source": [
    "def clip_number(num, min_val, max_val):\n",
    "    return max(min(num, max_val), min_val)\n",
    "\n",
    "x = -2.675\n",
    "y = my_dict[show_binary(round(clip_number(x,float(my_dict[\"1000\"]),float(my_dict[\"0111\"]))*8),4)]\n",
    "print(y)\n",
    "print(my_dict_rev[y])\n"
   ]
  },
  {
   "cell_type": "code",
   "execution_count": 13,
   "id": "4c842ed3",
   "metadata": {},
   "outputs": [
    {
     "name": "stdout",
     "output_type": "stream",
     "text": [
      "32767\n",
      "0111111111111111\n"
     ]
    }
   ],
   "source": [
    "import numpy as np\n",
    "x = 4.675 # Q1.2.13\n",
    "y = np.int16(round(clip_number(x,-np.power(2.0,2),(np.power(2.0,2)-np.power(2.0,-13)))*np.power(2.0,13))) # Q1.2.13\n",
    "print(y)\n",
    "print(show_binary(y,16))\n",
    "\n"
   ]
  }
 ],
 "metadata": {
  "kernelspec": {
   "display_name": "dl4cv_env",
   "language": "python",
   "name": "python3"
  },
  "language_info": {
   "codemirror_mode": {
    "name": "ipython",
    "version": 3
   },
   "file_extension": ".py",
   "mimetype": "text/x-python",
   "name": "python",
   "nbconvert_exporter": "python",
   "pygments_lexer": "ipython3",
   "version": "3.9.13"
  }
 },
 "nbformat": 4,
 "nbformat_minor": 5
}
