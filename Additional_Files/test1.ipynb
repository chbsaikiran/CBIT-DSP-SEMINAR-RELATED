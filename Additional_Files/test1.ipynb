{
 "cells": [
  {
   "cell_type": "code",
   "execution_count": 20,
   "id": "b35f688e",
   "metadata": {},
   "outputs": [
    {
     "name": "stdout",
     "output_type": "stream",
     "text": [
      "(-1.000,-2.00)\n",
      "(-0.875,-1.75)\n",
      "(-0.750,-1.50)\n",
      "(-0.625,-1.25)\n",
      "(-0.500,-1.00)\n",
      "(-0.375,-0.75)\n",
      "(-0.250,-0.50)\n",
      "(-0.125,-0.25)\n",
      "(0.000,0.00)\n",
      "(0.125,0.25)\n",
      "(0.250,0.50)\n",
      "(0.375,0.75)\n",
      "(0.500,1.00)\n",
      "(0.625,1.25)\n",
      "(0.750,1.50)\n",
      "(0.875,1.75)\n"
     ]
    }
   ],
   "source": [
    "def show_binary(number, bits):\n",
    "    \"\"\"\n",
    "    Show the binary representation of a number in a fixed bit-width.\n",
    "\n",
    "    Parameters:\n",
    "    -----------\n",
    "    number : int\n",
    "        The number to convert (can be positive or negative).\n",
    "    bits : int\n",
    "        The bit-width (e.g., 8, 16, 32).\n",
    "    \"\"\"\n",
    "    if number < 0:\n",
    "        # For negative numbers, take two's complement representation\n",
    "        number = (1 << bits) + number\n",
    "    return format(number, f'0{bits}b')  # Zero-padded binary string\n",
    "\n",
    "#4 bits Q1.0.3 format -1.0 to 1.0 - 0.125 step\n",
    "#4 bits Q1.1.2 format -2.0 to 2.0 - 0.25 step\n",
    "float_format1 = []\n",
    "float_format2 = []\n",
    "for i in range(16):\n",
    "    print(f\"({-1+(i)/8:.3f},{-2+(i)/4:.2f})\")\n",
    "    float_format1.append((-1+(i)/8))\n",
    "    float_format2.append((-2+(i)/4))\n",
    "\n"
   ]
  },
  {
   "cell_type": "code",
   "execution_count": 21,
   "id": "78e2a3ff",
   "metadata": {},
   "outputs": [
    {
     "name": "stdout",
     "output_type": "stream",
     "text": [
      "(1000,-8)\n",
      "(1001,-7)\n",
      "(1010,-6)\n",
      "(1011,-5)\n",
      "(1100,-4)\n",
      "(1101,-3)\n",
      "(1110,-2)\n",
      "(1111,-1)\n",
      "(0000,0)\n",
      "(0001,1)\n",
      "(0010,2)\n",
      "(0011,3)\n",
      "(0100,4)\n",
      "(0101,5)\n",
      "(0110,6)\n",
      "(0111,7)\n"
     ]
    }
   ],
   "source": [
    "binary_format1 = []\n",
    "for i in range(16):\n",
    "    print(f\"({show_binary(round((-1+(i)/8)*8),4)},{round((-1+(i)/8)*8)})\")\n",
    "    binary_format1.append(show_binary(round((-1+(i)/8)*8),4))\n",
    "binary_format2 = binary_format1"
   ]
  },
  {
   "cell_type": "code",
   "execution_count": 22,
   "id": "60c66022",
   "metadata": {},
   "outputs": [
    {
     "data": {
      "text/plain": [
       "(-2.0, 1.75)"
      ]
     },
     "execution_count": 22,
     "metadata": {},
     "output_type": "execute_result"
    }
   ],
   "source": [
    "my_dict1 = dict(zip(binary_format1, float_format1))\n",
    "my_dict_rev1 = dict(zip(float_format1,binary_format1))\n",
    "my_dict2 = dict(zip(binary_format2, float_format2))\n",
    "my_dict_rev2 = dict(zip(float_format2,binary_format2))\n",
    "#print(my_dict)\n",
    "my_dict2[\"1000\"],my_dict2[\"0111\"]"
   ]
  },
  {
   "cell_type": "code",
   "execution_count": 28,
   "id": "6d2bda76",
   "metadata": {},
   "outputs": [
    {
     "name": "stdout",
     "output_type": "stream",
     "text": [
      "format1 case output\n",
      "-0.125\n",
      "1111\n",
      "format2 case output\n",
      "0.0\n",
      "0000\n"
     ]
    }
   ],
   "source": [
    "def clip_number(num, min_val, max_val):\n",
    "    return max(min(num, max_val), min_val)\n",
    "\n",
    "x = -0.07567\n",
    "print(\"format1 case output\")\n",
    "y = my_dict1[show_binary(round(clip_number(x,float(my_dict1[\"1000\"]),float(my_dict1[\"0111\"]))*8),4)]\n",
    "print(y)\n",
    "print(my_dict_rev1[y])\n",
    "\n",
    "print(\"format2 case output\")\n",
    "y = my_dict2[show_binary(round(clip_number(x,float(my_dict2[\"1000\"]),float(my_dict2[\"0111\"]))*4),4)]\n",
    "print(y)\n",
    "print(my_dict_rev2[y])\n"
   ]
  },
  {
   "cell_type": "code",
   "execution_count": null,
   "id": "4c842ed3",
   "metadata": {},
   "outputs": [
    {
     "name": "stdout",
     "output_type": "stream",
     "text": [
      "fixed point value: 32767\n",
      "after fixed point to float value: 3.9998779296875\n",
      "Quantization Error: 1.7659220703124996\n",
      "0111111111111111\n"
     ]
    }
   ],
   "source": [
    "import numpy as np\n",
    "x = 5.7658 # Q1.2.13 format -4 to 4 - 2^-13 step\n",
    "print(f\"float value: {x}\")\n",
    "# Clip the value to the representable range\n",
    "y = np.int16(round(clip_number(x,-np.power(2.0,2),(np.power(2.0,2)-np.power(2.0,-13)))*np.power(2.0,13))) # Q1.2.13\n",
    "print(f\"fixed point value: {y}\")\n",
    "print(f\"after fixed point to float value: {y*np.power(2.0,-13)}\")\n",
    "print(f\"Quantization Error: {x-(y*np.power(2.0,-13))}\")\n",
    "print(show_binary(y,16))\n",
    "\n"
   ]
  }
 ],
 "metadata": {
  "kernelspec": {
   "display_name": "dl4cv_env",
   "language": "python",
   "name": "python3"
  },
  "language_info": {
   "codemirror_mode": {
    "name": "ipython",
    "version": 3
   },
   "file_extension": ".py",
   "mimetype": "text/x-python",
   "name": "python",
   "nbconvert_exporter": "python",
   "pygments_lexer": "ipython3",
   "version": "3.9.13"
  }
 },
 "nbformat": 4,
 "nbformat_minor": 5
}
